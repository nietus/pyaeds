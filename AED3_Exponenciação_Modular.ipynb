{
  "cells": [
    {
      "cell_type": "markdown",
      "metadata": {
        "id": "kPlz7DBRw3OA"
      },
      "source": [
        " ### Exponenciação modular"
      ]
    },
    {
      "cell_type": "code",
      "execution_count": 5,
      "metadata": {
        "id": "WdPMPwzaBa1A"
      },
      "outputs": [],
      "source": [
        "def powmod_verbose(base, exponent, modulus):\n",
        "    result = 1\n",
        "    print(\"Calculando {} elevado a {}, modulo {}.\".format(base, exponent, modulus))\n",
        "    print(\"Expoente {} em binário é {}, vamos BIT a BIT agora, iniciando com {}\".format(exponent,bin(exponent)[2:],format(result)))\n",
        "    bitstring = bin(exponent)[2:]\n",
        "    #OBS: Se dois números têm o mesmo resto quando divididos pelo mesmo módulo, diz-se que eles são congruentes\n",
        "    for bit in bitstring: # Inicia um loop para iterar através dos bits do expoente representado em binário.\n",
        "        sq_result = result*result % modulus  # Sempre calculamos o módulo do resultado ao quadrado\n",
        "        if bit == '0': # Isso ocorre porque o quadrado do resultado é congruente a ele mesmo, então não é necessário fazer mais cálculos.\n",
        "            print(\"BIT 0:  {} ao quadrado={}, mod {} é igual a {}\".format(result,result*result,  modulus,sq_result))\n",
        "            result = sq_result  # se BIT for zero, mantem apenas o cálculo acima\n",
        "        if bit == '1':\n",
        "            newresult = (sq_result * base) % modulus # se BIT for um, calculamos o módulo do resultado acima vezes a base\n",
        "            print(\"BIT 1:  {} ao quadrado={} multiplicado por {}={}, mod {} é igual a {}\".format(result,result*result, base,(result*result) * base,  modulus ,newresult))\n",
        "            result = newresult\n",
        "    print(\"Resultado {}\".format(result))\n",
        "    return result"
      ]
    },
    {
      "cell_type": "code",
      "execution_count": 6,
      "metadata": {
        "colab": {
          "base_uri": "https://localhost:8080/"
        },
        "id": "vkn8s9tOgNAJ",
        "outputId": "30129139-b625-4c3d-e481-f881bfdafb7d"
      },
      "outputs": [
        {
          "name": "stdout",
          "output_type": "stream",
          "text": [
            "Calculando 8 elevado a 21, modulo 15.\n",
            "Expoente 21 em binário é 10101, vamos BIT a BIT agora, iniciando com 1\n",
            "BIT 1:  1 ao quadrado=1 multiplicado por 8=8, mod 15 é igual a 8\n",
            "BIT 0:  8 ao quadrado=64, mod 15 é igual a 4\n",
            "BIT 1:  4 ao quadrado=16 multiplicado por 8=128, mod 15 é igual a 8\n",
            "BIT 0:  8 ao quadrado=64, mod 15 é igual a 4\n",
            "BIT 1:  4 ao quadrado=16 multiplicado por 8=128, mod 15 é igual a 8\n",
            "Resultado 8\n"
          ]
        },
        {
          "data": {
            "text/plain": [
              "8"
            ]
          },
          "execution_count": 6,
          "metadata": {},
          "output_type": "execute_result"
        }
      ],
      "source": [
        "powmod_verbose(8,21,15)"
      ]
    },
    {
      "cell_type": "code",
      "execution_count": 7,
      "metadata": {
        "colab": {
          "base_uri": "https://localhost:8080/"
        },
        "id": "6nwuj8kQdaEX",
        "outputId": "40e88272-0186-40fc-b4f0-e98d89f3cb16"
      },
      "outputs": [
        {
          "name": "stdout",
          "output_type": "stream",
          "text": [
            "Calculando 7 elevado a 4097, modulo 41.\n",
            "Expoente 4097 em binário é 1000000000001, vamos BIT a BIT agora, iniciando com 1\n",
            "BIT 1:  1 ao quadrado=1 multiplicado por 7=7, mod 41 é igual a 7\n",
            "BIT 0:  7 ao quadrado=49, mod 41 é igual a 8\n",
            "BIT 0:  8 ao quadrado=64, mod 41 é igual a 23\n",
            "BIT 0:  23 ao quadrado=529, mod 41 é igual a 37\n",
            "BIT 0:  37 ao quadrado=1369, mod 41 é igual a 16\n",
            "BIT 0:  16 ao quadrado=256, mod 41 é igual a 10\n",
            "BIT 0:  10 ao quadrado=100, mod 41 é igual a 18\n",
            "BIT 0:  18 ao quadrado=324, mod 41 é igual a 37\n",
            "BIT 0:  37 ao quadrado=1369, mod 41 é igual a 16\n",
            "BIT 0:  16 ao quadrado=256, mod 41 é igual a 10\n",
            "BIT 0:  10 ao quadrado=100, mod 41 é igual a 18\n",
            "BIT 0:  18 ao quadrado=324, mod 41 é igual a 37\n",
            "BIT 1:  37 ao quadrado=1369 multiplicado por 7=9583, mod 41 é igual a 30\n",
            "Resultado 30\n"
          ]
        },
        {
          "data": {
            "text/plain": [
              "30"
            ]
          },
          "execution_count": 7,
          "metadata": {},
          "output_type": "execute_result"
        }
      ],
      "source": [
        "powmod_verbose(7,4097,41)"
      ]
    },
    {
      "cell_type": "code",
      "execution_count": 8,
      "metadata": {
        "colab": {
          "base_uri": "https://localhost:8080/"
        },
        "id": "gQuKsES3dcbH",
        "outputId": "ddf440cc-a3f5-42bd-c91b-1628548ca8fb"
      },
      "outputs": [
        {
          "name": "stdout",
          "output_type": "stream",
          "text": [
            "Calculando 111231235 elevado a 709102291287319283738012983, modulo 1028312.\n",
            "Expoente 709102291287319283738012983 em binário é 100100101010001110010000000011110010000101001111001000101010100011101111101110110100110111, vamos BIT a BIT agora, iniciando com 1\n",
            "BIT 1:  1 ao quadrado=1 multiplicado por 111231235=111231235, mod 1028312 é igual a 173539\n",
            "BIT 0:  173539 ao quadrado=30115784521, mod 1028312 é igual a 639289\n",
            "BIT 0:  639289 ao quadrado=408690425521, mod 1028312 é igual a 160865\n",
            "BIT 1:  160865 ao quadrado=25877548225 multiplicado por 111231235=2878391647838807875, mod 1028312 é igual a 581843\n",
            "BIT 0:  581843 ao quadrado=338541276649, mod 1028312 é igual a 400009\n",
            "BIT 0:  400009 ao quadrado=160007200081, mod 1028312 é igual a 824569\n",
            "BIT 1:  824569 ao quadrado=679914035761 multiplicado por 111231235=75627677891530194835, mod 1028312 é igual a 4099\n",
            "BIT 0:  4099 ao quadrado=16801801, mod 1028312 é igual a 348809\n",
            "BIT 1:  348809 ao quadrado=121667718481 multiplicado por 111231235=13533250586273954035, mod 1028312 é igual a 881147\n",
            "BIT 0:  881147 ao quadrado=776420035609, mod 1028312 é igual a 258193\n",
            "BIT 1:  258193 ao quadrado=66663625249 multiplicado por 111231235=7415077366023452515, mod 1028312 é igual a 967491\n",
            "BIT 0:  967491 ao quadrado=936038835081, mod 1028312 é igual a 355777\n",
            "BIT 0:  355777 ao quadrado=126577273729, mod 1028312 é igual a 293025\n",
            "BIT 0:  293025 ao quadrado=85863650625, mod 1028312 é igual a 626937\n",
            "BIT 1:  626937 ao quadrado=393050001969 multiplicado por 111231235=43719437135764301715, mod 1028312 é igual a 75603\n",
            "BIT 1:  75603 ao quadrado=5715813609 multiplicado por 111231235=635777006758877115, mod 1028312 é igual a 870443\n",
            "BIT 1:  870443 ao quadrado=757671016249 multiplicado por 111231235=84276682861081337515, mod 1028312 é igual a 516731\n",
            "BIT 0:  516731 ao quadrado=267010926361, mod 1028312 é igual a 460753\n",
            "BIT 0:  460753 ao quadrado=212293327009, mod 1028312 é igual a 371233\n",
            "BIT 1:  371233 ao quadrado=137813940289 multiplicado por 111231235=15329214778561726915, mod 1028312 é igual a 1006731\n",
            "BIT 0:  1006731 ao quadrado=1013507306361, mod 1028312 é igual a 942537\n",
            "BIT 0:  942537 ao quadrado=888375996369, mod 1028312 é igual a 806577\n",
            "BIT 0:  806577 ao quadrado=650566456929, mod 1028312 é igual a 756881\n",
            "BIT 0:  756881 ao quadrado=572868848161, mod 1028312 é igual a 346209\n",
            "BIT 0:  346209 ao quadrado=119860671681, mod 1028312 é igual a 624961\n",
            "BIT 0:  624961 ao quadrado=390576251521, mod 1028312 é igual a 731057\n",
            "BIT 0:  731057 ao quadrado=534444337249, mod 1028312 é igual a 769801\n",
            "BIT 0:  769801 ao quadrado=592593579601, mod 1028312 é igual a 1025177\n",
            "BIT 1:  1025177 ao quadrado=1050987881329 multiplicado por 111231235=116902680010258111315, mod 1028312 é igual a 460523\n",
            "BIT 1:  460523 ao quadrado=212081433529 multiplicado por 111231235=23590079772001078315, mod 1028312 é igual a 144635\n",
            "BIT 1:  144635 ao quadrado=20919283225 multiplicado por 111231235=2326877708431532875, mod 1028312 é igual a 961995\n",
            "BIT 1:  961995 ao quadrado=925434380025 multiplicado por 111231235=102937209001640080875, mod 1028312 é igual a 882283\n",
            "BIT 0:  882283 ao quadrado=778423292089, mod 1028312 é igual a 362897\n",
            "BIT 0:  362897 ao quadrado=131694232609, mod 1028312 é igual a 371393\n",
            "BIT 1:  371393 ao quadrado=137932760449 multiplicado por 111231235=15342431291701424515, mod 1028312 é igual a 470203\n",
            "BIT 0:  470203 ao quadrado=221090861209, mod 1028312 é igual a 696273\n",
            "BIT 0:  696273 ao quadrado=484796090529, mod 1028312 é igual a 454753\n",
            "BIT 0:  454753 ao quadrado=206800291009, mod 1028312 é igual a 577937\n",
            "BIT 0:  577937 ao quadrado=334011175969, mod 1028312 é igual a 13689\n",
            "BIT 1:  13689 ao quadrado=187388721 multiplicado por 111231235=20843478861900435, mod 1028312 é igual a 1000451\n",
            "BIT 0:  1000451 ao quadrado=1000902203401, mod 1028312 é igual a 888073\n",
            "BIT 1:  888073 ao quadrado=788673653329 multiplicado por 111231235=87725144471746531315, mod 1028312 é igual a 564763\n",
            "BIT 0:  564763 ao quadrado=318957246169, mod 1028312 é igual a 571569\n",
            "BIT 0:  571569 ao quadrado=326691121761, mod 1028312 é igual a 512609\n",
            "BIT 1:  512609 ao quadrado=262767986881 multiplicado por 111231235=29228007699237428035, mod 1028312 é igual a 446091\n",
            "BIT 1:  446091 ao quadrado=198997180281 multiplicado por 111231235=22134702124173277035, mod 1028312 é igual a 15699\n",
            "BIT 1:  15699 ao quadrado=246458601 multiplicado por 111231235=27413894565602235, mod 1028312 é igual a 212931\n",
            "BIT 1:  212931 ao quadrado=45339610761 multiplicado por 111231235=5043180899365319835, mod 1028312 é igual a 154555\n",
            "BIT 0:  154555 ao quadrado=23887248025, mod 1028312 é igual a 588577\n",
            "BIT 0:  588577 ao quadrado=346422884929, mod 1028312 é igual a 1025121\n",
            "BIT 1:  1025121 ao quadrado=1050873064641 multiplicado por 111231235=116889908808253261635, mod 1028312 é igual a 59587\n",
            "BIT 0:  59587 ao quadrado=3550610569, mod 1028312 é igual a 877545\n",
            "BIT 0:  877545 ao quadrado=770085227025, mod 1028312 é igual a 879841\n",
            "BIT 0:  879841 ao quadrado=774120185281, mod 1028312 é igual a 741809\n",
            "BIT 1:  741809 ao quadrado=550280592481 multiplicado por 111231235=61208389898193344035, mod 1028312 é igual a 595987\n",
            "BIT 0:  595987 ao quadrado=355200504169, mod 1028312 é igual a 973129\n",
            "BIT 1:  973129 ao quadrado=946980050641 multiplicado por 111231235=105333760553160971635, mod 1028312 é igual a 801483\n",
            "BIT 0:  801483 ao quadrado=642374999289, mod 1028312 é igual a 832633\n",
            "BIT 1:  832633 ao quadrado=693277712689 multiplicado por 111231235=77114136180372640915, mod 1028312 é igual a 277595\n",
            "BIT 0:  277595 ao quadrado=77058984025, mod 1028312 é igual a 367681\n",
            "BIT 1:  367681 ao quadrado=135189317761 multiplicado por 111231235=15037274773363464835, mod 1028312 é igual a 94379\n",
            "BIT 0:  94379 ao quadrado=8907395641, mod 1028312 é igual a 157097\n",
            "BIT 0:  157097 ao quadrado=24679467409, mod 1028312 é igual a 1007721\n",
            "BIT 0:  1007721 ao quadrado=1015501613841, mod 1028312 é igual a 324737\n",
            "BIT 1:  324737 ao quadrado=105454119169 multiplicado por 111231235=11729791911005043715, mod 1028312 é igual a 262371\n",
            "BIT 1:  262371 ao quadrado=68838541641 multiplicado por 111231235=7656996002327356635, mod 1028312 é igual a 764915\n",
            "BIT 1:  764915 ao quadrado=585094957225 multiplicado por 111231235=65080834684408922875, mod 1028312 é igual a 919035\n",
            "BIT 0:  919035 ao quadrado=844625331225, mod 1028312 é igual a 703785\n",
            "BIT 1:  703785 ao quadrado=495313326225 multiplicado por 111231235=55094312987964637875, mod 1028312 é igual a 351187\n",
            "BIT 1:  351187 ao quadrado=123332308969 multiplicado por 111231235=13718405042023446715, mod 1028312 é igual a 652563\n",
            "BIT 1:  652563 ao quadrado=425838468969 multiplicado por 111231235=47366538813931046715, mod 1028312 é igual a 235395\n",
            "BIT 1:  235395 ao quadrado=55410806025 multiplicado por 111231235=6163412386506190875, mod 1028312 é igual a 853219\n",
            "BIT 1:  853219 ao quadrado=727982661961 multiplicado por 111231235=80974410548509551835, mod 1028312 é igual a 10451\n",
            "BIT 0:  10451 ao quadrado=109223401, mod 1028312 é igual a 222329\n",
            "BIT 1:  222329 ao quadrado=49430184241 multiplicado por 111231235=5498180439403967635, mod 1028312 é igual a 647987\n",
            "BIT 1:  647987 ao quadrado=419887152169 multiplicado por 111231235=46704566496390798715, mod 1028312 é igual a 548371\n",
            "BIT 1:  548371 ao quadrado=300710753641 multiplicado por 111231235=33448428505269176635, mod 1028312 é igual a 724323\n",
            "BIT 0:  724323 ao quadrado=524643808329, mod 1028312 é igual a 54241\n",
            "BIT 1:  54241 ao quadrado=2942086081 multiplicado por 111231235=327251868265940035, mod 1028312 é igual a 474971\n",
            "BIT 1:  474971 ao quadrado=225597450841 multiplicado por 111231235=25093483069896218635, mod 1028312 é igual a 683355\n",
            "BIT 0:  683355 ao quadrado=466974056025, mod 1028312 é igual a 95521\n",
            "BIT 1:  95521 ao quadrado=9124261441 multiplicado por 111231235=1014902868545309635, mod 1028312 é igual a 267675\n",
            "BIT 0:  267675 ao quadrado=71649905625, mod 1028312 é igual a 210401\n",
            "BIT 0:  210401 ao quadrado=44268580801, mod 1028312 é igual a 777513\n",
            "BIT 1:  777513 ao quadrado=604526465169 multiplicado por 111231235=67242225310932353715, mod 1028312 é igual a 855259\n",
            "BIT 1:  855259 ao quadrado=731467957081 multiplicado por 111231235=81362084229046625035, mod 1028312 é igual a 489891\n",
            "BIT 0:  489891 ao quadrado=239993191881, mod 1028312 é igual a 595761\n",
            "BIT 1:  595761 ao quadrado=354931169121 multiplicado por 111231235=39479432281322694435, mod 1028312 é igual a 125891\n",
            "BIT 1:  125891 ao quadrado=15848543881 multiplicado por 111231235=1762853108835323035, mod 1028312 é igual a 327963\n",
            "BIT 1:  327963 ao quadrado=107559729369 multiplicado por 111231235=11964001533979640715, mod 1028312 é igual a 196027\n",
            "Resultado 196027\n"
          ]
        },
        {
          "data": {
            "text/plain": [
              "196027"
            ]
          },
          "execution_count": 8,
          "metadata": {},
          "output_type": "execute_result"
        }
      ],
      "source": [
        "powmod_verbose(111231235,709102291287319283738012983,1028312)"
      ]
    }
  ],
  "metadata": {
    "colab": {
      "provenance": []
    },
    "kernelspec": {
      "display_name": "Python 3",
      "name": "python3"
    },
    "language_info": {
      "codemirror_mode": {
        "name": "ipython",
        "version": 3
      },
      "file_extension": ".py",
      "mimetype": "text/x-python",
      "name": "python",
      "nbconvert_exporter": "python",
      "pygments_lexer": "ipython3",
      "version": "3.11.7"
    }
  },
  "nbformat": 4,
  "nbformat_minor": 0
}
